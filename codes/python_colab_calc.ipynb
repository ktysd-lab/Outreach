{
  "cells": [
    {
      "cell_type": "markdown",
      "metadata": {
        "id": "TmQ4eBZJQieL"
      },
      "source": [
        "# Python / Colab による高校数学＋α\n",
        "\n",
        "宇都宮大学　吉田勝俊"
      ]
    },
    {
      "cell_type": "markdown",
      "metadata": {
        "id": "lIrj0Lhl9dEI"
      },
      "source": [
        "## 学習目標\n",
        "\n",
        "#### 《Step.1》 プログラミング言語 Python を実行できるクラウド環境 Colab について速習します．\n",
        "\n",
        "* [Python](https://ja.wikipedia.org/wiki/Python) とは，人気沸騰中のプログラミング言語で，汎用性の高さがウリです．これまで複数のプログラミング言語を組み合わせないと書けなかった処理が，これ1つで書けてしまいます．AI分野の標準言語となりつつあります．\n",
        "* Colab ([Google Colaboratory](https://colab.research.google.com/notebooks/welcome.ipynb?hl=ja)) とは，Google が無償提供する Python 実行環境のことです．クラウド型なので，ウェブブラウザから利用できます．\n",
        "\n",
        "> **ウェブブラウザは Chrome を推奨します！**　※その他のブラウザでは不具合が起こるかも知れません．\n",
        "\n",
        "* Python は，単体で PC にインストールしても使えますが（かつてはそれが主流だった），ここでは場所を選ばない方法として，Python をウェブブラウザから Colab 経由で実行する方法を学びます．\n",
        "\n",
        "#### 《Step.2》 高校数学＋α を，Python でプログラミングしてみます．\n",
        "\n",
        "#### 《Step.3》 Python の文法（制御文とユーザ関数）を紹介します．"
      ]
    },
    {
      "cell_type": "markdown",
      "metadata": {
        "id": "gU8i1Wq59dEL"
      },
      "source": [
        "***\n",
        "## 《Step.1》 Colab 入門"
      ]
    },
    {
      "cell_type": "markdown",
      "metadata": {
        "id": "qlyvcIrimgi0"
      },
      "source": [
        "> ※参考まで，大学の授業動画を張っておきますが，内容は若干異なります．\n",
        "> > [Python / Colab 超入門デモ - YouTube](https://github.com/ktysd/python-startup/wiki)"
      ]
    },
    {
      "cell_type": "markdown",
      "metadata": {
        "id": "QTA3YAipQieM"
      },
      "source": [
        "### １．基本的事項\n",
        "* 「Colab ノートブック」　今みているこの文書．\n",
        "* 「セル」　Colab ノートブック内の入力可能な枠．\n",
        "* 「テキストセル」　文章を記述するためのセル．今読んでるここがテキストセルである．\n",
        "* 「コードセル」　Pythonのコードが実行できるセル．次行はコードセルである．"
      ]
    },
    {
      "cell_type": "code",
      "execution_count": null,
      "metadata": {
        "id": "CbmNYvPAQieM"
      },
      "outputs": [],
      "source": []
    },
    {
      "cell_type": "markdown",
      "metadata": {
        "id": "vXGcKiKk9dER"
      },
      "source": [
        "**実習**　上のコードセルに `1+2` を入力し，セル左端の <font color=\"red\"> 実行ボタン</font>（再生ボタンみたいな） をクリックせよ．"
      ]
    },
    {
      "cell_type": "markdown",
      "metadata": {
        "id": "uF3pdZ3_9dES"
      },
      "source": [
        "### ２．コードセルの実行方法\n",
        "\n",
        "- 該当セルをクリックして選択すると，セルの左側に <font color=\"red\"> 実行ボタン</font>（再生ボタンみたいな）が現れる．それをクリックする．\n",
        "- または，選択中にキーボードから <font color=\"red\">《Ctrl-Enter》</font> する （<font color=\"red\">Ctrlキーを押しながらEnterキーを押す</font>）．\n",
        "    * ブラウザによっては《Shift-Enter》も受け付けるみたい\n",
        "- この操作により，入力内容が Python（クラウド上） に送信され，Python からの返信がブラウザに表示される．\n",
        "    - クラウド上の Python と，LINE するイメージ"
      ]
    },
    {
      "cell_type": "markdown",
      "metadata": {
        "id": "xnhPl2sI9dET"
      },
      "source": [
        "### ３．コードセルの追加方法\n",
        "\n",
        "- 既存のコードセルを増やす：\n",
        "    - 既存のコードセルの上下境界に，マウスカーソルを合せる．「＋ コード」をクリックする．\n",
        "    \n",
        "- コードセルをゼロから作る：\n",
        "    - 左上メニューの「挿入」→「コード」で追加できる．"
      ]
    },
    {
      "cell_type": "markdown",
      "metadata": {
        "id": "swnB-Vl-QieM"
      },
      "source": [
        "### ４．コメントアウト\n",
        "\n",
        "- コードセル内に <font color=\"red\">#</font> 文字を置くと，そこから行末までを python は無視します．コードセル内のメモ書きに使います．"
      ]
    },
    {
      "cell_type": "markdown",
      "metadata": {
        "id": "MINSO35k9dEW"
      },
      "source": [
        "**実習**　上のコードセルに `1+2#+3+4` を入力し，実行せよ．"
      ]
    },
    {
      "cell_type": "markdown",
      "metadata": {
        "id": "Rot74z5w9dEX"
      },
      "source": [
        "**実習**　`#` を削除した `1+2+3+4` を実行せよ．"
      ]
    },
    {
      "cell_type": "markdown",
      "metadata": {
        "id": "Tiyyt8ANQieL"
      },
      "source": [
        "#### <font color=\"red\">警告！</font>\n",
        "\n",
        "##### 1. 「隠れセル」問題\n",
        "- 〔 <font color=\"red\">***↳ ？ 個のセルが非表示***</font> 〕という表示があったら，その表示をクリックしてください．\n",
        "- 通信量削減のため Colab が隠してしまったセルが表示されます．\n",
        "- 隠れセルを全て，一括で表示するには，Colab メニュー「表示」→「セクションを展開」します．\n",
        "\n",
        "##### 2. 「入力した内容が消えてしまう」問題\n",
        "> 実習目的でファイルを保存しない場合は，無視して大丈夫です．\n",
        "- このファイルは，閉じると，入力した内容が消えてしまう，一時ファイルです．\n",
        "- 自分が入力した内容を保存したいときは，Colab メニュー「ファイル」→「ドライブにコピーを保存」で各自保存してください．\n",
        "- コピーしたファイルは，各自のGoogleドライブの「Colab Notebooks」というフォルダに保存されます．\n",
        "\n",
        "![ドライブへの保存](https://raw.githubusercontent.com/wiki/ktysd/python-startup/img/copy_to_drive.png)"
      ]
    },
    {
      "cell_type": "markdown",
      "metadata": {
        "id": "io4GjVwAmgi1"
      },
      "source": []
    },
    {
      "cell_type": "markdown",
      "metadata": {
        "id": "eWFmGAyxQieV"
      },
      "source": [
        "***\n",
        "## 《Step.2》 高校数学＋α\n",
        "\n",
        "以下のコードセルを，順番に実行してみましょう．（実行ボタンをクリックするか，《Ctrl-Enter》）"
      ]
    },
    {
      "cell_type": "markdown",
      "metadata": {
        "id": "gl1VyuevQieV"
      },
      "source": [
        "### ◯ 四則演算・べき乗"
      ]
    },
    {
      "cell_type": "code",
      "execution_count": null,
      "metadata": {
        "id": "sBpkHzDlQieV"
      },
      "outputs": [],
      "source": [
        "1+2*3/4 # 1＋2×3÷4"
      ]
    },
    {
      "cell_type": "code",
      "execution_count": null,
      "metadata": {
        "id": "Y5pD8xyPQieW"
      },
      "outputs": [],
      "source": [
        "2**3 # 2の3乗"
      ]
    },
    {
      "cell_type": "markdown",
      "metadata": {
        "id": "eP9npNXOQieW"
      },
      "source": [
        "### ◯ ベクトル・行列\n",
        "\n",
        "ベクトル演算するには，それ用のライブラリ（拡張機能）をインポートする（読み込む）必要があります．"
      ]
    },
    {
      "cell_type": "code",
      "execution_count": null,
      "metadata": {
        "id": "5Asa2VQ2QieW"
      },
      "outputs": [],
      "source": [
        "import numpy as np # ベクトル演算ライブラリ numpy を，短縮名 np でインポートする．"
      ]
    },
    {
      "cell_type": "markdown",
      "metadata": {
        "id": "598gqIKdQieW"
      },
      "source": [
        "#### 〔ベクトルの作成〕"
      ]
    },
    {
      "cell_type": "code",
      "execution_count": null,
      "metadata": {
        "id": "poP1NJZ-QieW"
      },
      "outputs": [],
      "source": [
        "v = np.array([1, -2, 3]) # ベクトル v の作成\n",
        "print(v) #成分の確認"
      ]
    },
    {
      "cell_type": "markdown",
      "metadata": {
        "id": "K9T7pyB-QieW"
      },
      "source": [
        "#### 〔ベクトルの成分〕　<font color=\"red\">※ Python の添字は `0` から始まる（C言語などと同じ）</font>"
      ]
    },
    {
      "cell_type": "code",
      "execution_count": null,
      "metadata": {
        "id": "CMtzBsmLQieW"
      },
      "outputs": [],
      "source": [
        "print( v[0] ) # Python の第0成分 = 数学の第1成分\n",
        "print( v[1] ) # Python の第1成分 = 数学の第2成分\n",
        "print( v[2] ) # Python の第2成分 = 数学の第3成分"
      ]
    },
    {
      "cell_type": "markdown",
      "metadata": {
        "id": "Fvnha96MQieZ"
      },
      "source": [
        "#### 【ベクトルの内積】"
      ]
    },
    {
      "cell_type": "code",
      "execution_count": null,
      "metadata": {
        "id": "TTSXt75LQieZ"
      },
      "outputs": [],
      "source": [
        "w = np.array([1, -2, 5]) # ベクトル w の作成\n",
        "np.dot(v, w)             # 先ほどの v と w の内積"
      ]
    },
    {
      "cell_type": "markdown",
      "metadata": {
        "id": "D4n3Hr0w-moi"
      },
      "source": [
        "### ◯ 関数とグラフ"
      ]
    },
    {
      "cell_type": "markdown",
      "metadata": {
        "id": "2Z1qWkRR-6XN"
      },
      "source": [
        "#### 〔ｘ軸の作成〕\n",
        "\n",
        "* 等差数列として作成します．（等差でなくても構いません）\n",
        "* ベクトルと同じデータ構造（numpy.array）でプログラミングします．\n"
      ]
    },
    {
      "cell_type": "code",
      "execution_count": null,
      "metadata": {
        "id": "zT06k3ZsAC8r"
      },
      "outputs": [],
      "source": [
        "x0 = -2  # 初項．軸の左端\n",
        "x1 = 2   # 末項．軸の右端\n",
        "n  = 21  # 項数\n",
        "\n",
        "x = np.linspace(x0, x1, n) #x = -2 〜 2 を20等分 → 項数は21\n",
        "\n",
        "print(x)"
      ]
    },
    {
      "cell_type": "markdown",
      "metadata": {
        "id": "LuASgpfiA83L"
      },
      "source": [
        "#### 《関数の例》"
      ]
    },
    {
      "cell_type": "code",
      "execution_count": null,
      "metadata": {
        "id": "TlKCyOjqBcAr"
      },
      "outputs": [],
      "source": [
        "y = x*(x-1)*(x+1) # 3次関数\n",
        "\n",
        "print(y)"
      ]
    },
    {
      "cell_type": "markdown",
      "metadata": {
        "id": "GD9OLWkoBsIh"
      },
      "source": [
        "#### 《グラフの作成》\n",
        "\n",
        "グラフを作成するには，それ用のライブラリ（拡張機能）をインポートする（読み込む）必要があります．"
      ]
    },
    {
      "cell_type": "code",
      "execution_count": null,
      "metadata": {
        "id": "e5OW_RvdCnSI"
      },
      "outputs": [],
      "source": [
        "import matplotlib.pyplot as plt # グラフ作成ライブラリを，短縮名 plt でインポートする．"
      ]
    },
    {
      "cell_type": "markdown",
      "metadata": {
        "id": "gLt5Mn_wDPs9"
      },
      "source": [
        "次のようにするとグラフが作成されます．"
      ]
    },
    {
      "cell_type": "code",
      "execution_count": null,
      "metadata": {
        "id": "XK_4tZb-DTUD"
      },
      "outputs": [],
      "source": [
        "plt.plot( x, y )  # グラフを描く\n",
        "plt.xlabel( 'x' ) # 横軸ラベル\n",
        "plt.ylabel( 'y' ) # 縦軸ラベル\n",
        "plt.grid()        # グリッド線を付ける"
      ]
    },
    {
      "cell_type": "markdown",
      "metadata": {
        "id": "uuWWlyEOktUn"
      },
      "source": [
        "### ◯ 関数の微分\n",
        "\n",
        "\n",
        "* 関数 $y=f(x)$ のグラフの傾きを，**導関数** と呼び，次のような数式で表します．\n",
        "\n",
        " $\\displaystyle \\frac{dy}{dx}$\n",
        " 　または\n",
        " $\\displaystyle \\frac{df(x)}{dx}$\n",
        " 　または\n",
        " $f'(x)$\n",
        "\n",
        " $\\displaystyle \\stackrel{\\text{定義}}{=} \\lim_{h\\to 0}\\frac{f(x+h) - f(x)}{h}$\n",
        "\n",
        " > <img src=\"https://github.com/ktysd/outreach/raw/main/docs/derivative.png\" width=\"35%\">\n",
        "\n",
        "* $f(x)$ の導関数を求めることを「$f(x)$ を $x$ で **微分** する」といいます．\n",
        "* コンピュータは「$h\\to 0$」を扱えないので，次式で近似します．\n",
        "\n",
        "  $\\displaystyle f'(x) \\stackrel{\\text{近似}}{\\text{≒}} \\frac{f(x+h) - f(x)}{h}$　（$h$ はなるべく小さい数）\n",
        "\n",
        " [〔参考情報〕 高等学校数学II/微分・積分の考え - Wikibooks](https://ja.wikibooks.org/wiki/%E9%AB%98%E7%AD%89%E5%AD%A6%E6%A0%A1%E6%95%B0%E5%AD%A6II/%E5%BE%AE%E5%88%86%E3%83%BB%E7%A9%8D%E5%88%86%E3%81%AE%E8%80%83%E3%81%88)\n"
      ]
    },
    {
      "cell_type": "markdown",
      "metadata": {
        "id": "jtsfgSr_5wIO"
      },
      "source": [
        "〔数学の定義通りの低精度計算〕※自家製"
      ]
    },
    {
      "cell_type": "code",
      "execution_count": null,
      "metadata": {
        "id": "3hzIEpiC54zu"
      },
      "outputs": [],
      "source": [
        "n = len(x) # x軸の項数\n",
        "my_x    = np.empty(len(x)-1)  # 空のリスト\n",
        "my_dydx = np.empty(len(x)-1)  # 空のリスト\n",
        "\n",
        "for i in range(n-1): #引き算するため，項数が1つ減ります\n",
        "  my_x[i]=x[i]          # x軸の各区間の左端の値をリストに追加\n",
        "\n",
        "  h = x[i+1] - x[i]           # x軸の各区間の幅（公差）\n",
        "  f_dash = (y[i+1] - y[i])/h  # f'(x) の近似式\n",
        "\n",
        "  my_dydx[i] = f_dash         # 計算値をリストに追加\n",
        "\n",
        "print(my_dydx)"
      ]
    },
    {
      "cell_type": "markdown",
      "metadata": {
        "id": "kOoNsRq07ouA"
      },
      "source": [
        "グラフを確認すると，左右対称なはずが，左にズレてる\n",
        "∵ 各区間の左端を `my_x` にしたので"
      ]
    },
    {
      "cell_type": "code",
      "execution_count": null,
      "metadata": {
        "id": "96hnOn5e7ouB"
      },
      "outputs": [],
      "source": [
        "plt.plot(my_x, my_dydx) # グラフを描く\n",
        "plt.xlabel( 'x' )       # 横軸ラベル\n",
        "plt.ylabel( 'dy/dx' )   # 縦軸ラベル\n",
        "plt.grid()              # グリッド線を付ける"
      ]
    },
    {
      "cell_type": "markdown",
      "metadata": {
        "id": "I0bWQTBHp_yx"
      },
      "source": [
        "〔Numpy による高精度計算〕　※2次精度の差分公式という方法で計算しています"
      ]
    },
    {
      "cell_type": "code",
      "execution_count": null,
      "metadata": {
        "id": "1m8yi0iWpew2"
      },
      "outputs": [],
      "source": [
        "dydx = np.gradient(y, x, edge_order=2) #高精度バージョン\n",
        "\n",
        "plt.plot(x, dydx)     # グラフを描く\n",
        "plt.xlabel( 'x' )     # 横軸ラベル\n",
        "plt.ylabel( 'dy/dx' ) # 縦軸ラベル\n",
        "plt.grid()            # グリッド線を付ける"
      ]
    },
    {
      "cell_type": "markdown",
      "metadata": {
        "id": "GF5cxXZ9slep"
      },
      "source": [
        "〔理論式 $f'(x) = 3x^2-1$ との比較〕 ※理論式は 数 II や 数 III の教科書を見てください"
      ]
    },
    {
      "cell_type": "code",
      "execution_count": null,
      "metadata": {
        "id": "VyjMH3vxtpa1"
      },
      "outputs": [],
      "source": [
        "dydx_math = 3*x*x - 1\n",
        "\n",
        "plt.plot(my_x, my_dydx, 'xk', label='Mine')  # 自家製の微分\n",
        "plt.plot(x, dydx, 'or', label='Numpy')       # Numpy による微分\n",
        "plt.plot(x, dydx_math,  label='Mathematics') # 正解：手計算による微分\n",
        "plt.xlabel( 'x' )     # 横軸ラベル\n",
        "plt.ylabel( 'dy/dx' ) # 縦軸ラベル\n",
        "plt.grid()            # グリッド線を付ける\n",
        "plt.legend()          # 凡例を付ける"
      ]
    },
    {
      "cell_type": "markdown",
      "metadata": {
        "id": "UUw1U9Afuasd"
      },
      "source": [
        "* 自家製（☓）は，正解（<font color=\"#1f77b4\">線</font>）から結構ズレました．さらに右端が1個足りません．\n",
        "* Numpy（<font color=\"#d62728\">●</font>）は，正解（<font color=\"#1f77b4\">線</font>）と，だいたい合いました．"
      ]
    },
    {
      "cell_type": "markdown",
      "metadata": {
        "id": "9vVbShdQQieZ"
      },
      "source": [
        "### ◯ 行列\n",
        "\n",
        "* 複数の数を，マス目に並べて，一括で計算する方法があります．\n",
        "* マス目に並べた数を，**行列** といいます．\n",
        "\n",
        "〔行列の例〕\n",
        "\n",
        "| | 0列 | 1列 | 2列 |\n",
        "|---|---|---|---|\n",
        "| **0行** | -1 | 2 | -3 |\n",
        "| **1行** | 3 | 5 | -2 |\n",
        "| **2行** | 1 | 7 | 6 |"
      ]
    },
    {
      "cell_type": "markdown",
      "metadata": {
        "id": "TXEMMXcwFx88"
      },
      "source": [
        "#### 〔行列の作成〕"
      ]
    },
    {
      "cell_type": "code",
      "execution_count": null,
      "metadata": {
        "id": "Dsge-SlSFx89",
        "scrolled": true
      },
      "outputs": [],
      "source": [
        "A = np.array([\n",
        "    [-1, 2, -3],\n",
        "    [3, 5, -2],\n",
        "    [1, 7, 6]\n",
        "]) # 行列 A の作成\n",
        "print(A) # 成分の確認"
      ]
    },
    {
      "cell_type": "markdown",
      "metadata": {
        "id": "ncnZAsh5Fx89"
      },
      "source": [
        "#### 〔行列の成分〕"
      ]
    },
    {
      "cell_type": "code",
      "execution_count": null,
      "metadata": {
        "id": "UzHZI0rhFx8-"
      },
      "outputs": [],
      "source": [
        "print( A[2, 1] ) # Pythonの2行1列成分 ＝ 数学の3行2列成分"
      ]
    },
    {
      "cell_type": "markdown",
      "metadata": {
        "id": "uyCi8w2jFx8-"
      },
      "source": [
        "#### 〔行列の行ベクトル〕 行列の各行を **行ベクトル** といいます．\n",
        "* \" <font color=\"red\">:</font> \" で全成分を表す．この操作をPythonでは「スライス」という．"
      ]
    },
    {
      "cell_type": "code",
      "execution_count": null,
      "metadata": {
        "id": "Wy5DB_CMFx8-",
        "scrolled": true
      },
      "outputs": [],
      "source": [
        "print( '0行', A[0, :] ) # Pythonの第0 行ベクトル ＝ 数学の第1 行ベクトル\n",
        "print( '1行', A[1, :] ) # Pythonの第1 行ベクトル ＝ 数学の第2 行ベクトル\n",
        "print( '2行', A[2, :] ) # Pythonの第2 行ベクトル ＝ 数学の第3 行ベクトル"
      ]
    },
    {
      "cell_type": "markdown",
      "metadata": {
        "id": "eYSbjtuRFx8-"
      },
      "source": [
        "#### 〔行列の列ベクトル〕 行列の各列を **列ベクトル** といいます．"
      ]
    },
    {
      "cell_type": "code",
      "execution_count": null,
      "metadata": {
        "id": "PnhHF2nYFx8-"
      },
      "outputs": [],
      "source": [
        "print( A[:, 0] ) # Pythonの第0 列ベクトル ＝ 数学の第1 列ベクトル\n",
        "print( A[:, 1] ) # Pythonの第1 列ベクトル ＝ 数学の第2 列ベクトル\n",
        "print( A[:, 2] ) # Pythonの第2 列ベクトル ＝ 数学の第3 列ベクトル"
      ]
    },
    {
      "cell_type": "markdown",
      "metadata": {
        "id": "aZKbr0YEFx8_"
      },
      "source": [
        "#### 〔行列の転置〕"
      ]
    },
    {
      "cell_type": "code",
      "execution_count": null,
      "metadata": {
        "id": "ALWwrs7yFx8_",
        "scrolled": true
      },
      "outputs": [],
      "source": [
        "Atrans = A.T # (行列).T で転置を表す\n",
        "print(Atrans) # 成分の確認"
      ]
    },
    {
      "cell_type": "markdown",
      "metadata": {
        "id": "8px4KtIVQieZ"
      },
      "source": [
        "#### 〔行列とベクトルの積〕　※ベクトルの内積と同じ文法で書けます"
      ]
    },
    {
      "cell_type": "code",
      "execution_count": null,
      "metadata": {
        "id": "U3_idiU2QieZ",
        "scrolled": true
      },
      "outputs": [],
      "source": [
        "np.dot(A, v) # 行列 A とベクトル v の積"
      ]
    },
    {
      "cell_type": "markdown",
      "metadata": {
        "id": "rJ_Rpm6gQieZ"
      },
      "source": [
        "#### 〔行列と行列の積〕"
      ]
    },
    {
      "cell_type": "code",
      "execution_count": null,
      "metadata": {
        "id": "gInlXZzzQieZ"
      },
      "outputs": [],
      "source": [
        "np.dot(A, Atrans) # 行列 A と行列 Atrans の積"
      ]
    },
    {
      "cell_type": "markdown",
      "metadata": {
        "id": "LS4MAVffQieZ"
      },
      "source": [
        "#### 〔逆行列〕\n",
        "\n",
        "逆行列を求めるには，それ用のライブラリ（拡張機能）をインポートする（読み込む）必要があります．"
      ]
    },
    {
      "cell_type": "code",
      "execution_count": null,
      "metadata": {
        "id": "NcMt3jE2GIkU"
      },
      "outputs": [],
      "source": [
        "import numpy.linalg as la # numpy に含まれる線形代数ライブラリを，短縮名 la でインポートする．"
      ]
    },
    {
      "cell_type": "markdown",
      "metadata": {
        "id": "FuxgvZDtGLd1"
      },
      "source": [
        "逆行列を求め，元の行列に掛けると，単位行列になります．"
      ]
    },
    {
      "cell_type": "code",
      "execution_count": null,
      "metadata": {
        "id": "xeCVMY0FQieZ"
      },
      "outputs": [],
      "source": [
        "Ainv = la.inv(A)        # A の逆行列\n",
        "print( 'Ainv = ', Ainv)\n",
        "\n",
        "AinvA = np.dot(Ainv, A) # 行列と逆行列の積\n",
        "print( 'AinvA = ', AinvA)"
      ]
    },
    {
      "cell_type": "markdown",
      "metadata": {
        "id": "i0t9bGbWQieZ"
      },
      "source": [
        "**※ 計算機誤差について**\n",
        "\n",
        "- `AinvA` は数学的には単位行列になるはずだが，そうなってない．\n",
        "- 2.63677968e-16 等は $2.63677968\\times10^{-16}$ のコンピュータ表記である．\n",
        "    - `AinvA` の非対角要素は，`0`ではないものの，`0`に極めて近い．\n",
        "- このような真値からのズレは，電算機の丸め誤差から生じている．このような誤差を，**計算機誤差** という．\n",
        "    - しばしば，次のように言い表す．「計算機誤差を考慮すると，`AinvA` は単位行列とみなせる」"
      ]
    },
    {
      "cell_type": "markdown",
      "metadata": {
        "id": "4Ll_hYDWQieb"
      },
      "source": [
        "***\n",
        "## 《Step.3》 Python の制御文とユーザ関数"
      ]
    },
    {
      "cell_type": "markdown",
      "metadata": {
        "id": "3Qks_7i2Qieb"
      },
      "source": [
        "### ◯ 繰り返し処理（ループ）\n",
        "\n",
        "次のように `for` を使って記述します．\n",
        "\n",
        "```python\n",
        "for 変数名 in range(反復回数): ←コロンを忘れずに！\n",
        "    インデントブロック　※\n",
        "    インデントブロック　※複数行に渡ってよい\n",
        "    インデントブロック　※\n",
        "```\n",
        "\n",
        "\n",
        "- 「半角スペース」　日本語入力OFFのときに入力される英語の空白文字．他方，かな漢字のスペースを全角スペースという．\n",
        "- 「インデント」　半角スペースによる字下げ．全角スペースでインデントすると文法エラーになる．\n",
        "- 「インデントブロック」　インデントの文字数を揃えた複数行の処理（1行でもよい）．<font color=\"red\">途中の空行は無視してくれる．</font>\n",
        "- Colab のコードセルは，インデント入力を補完する機能を備えている．"
      ]
    },
    {
      "cell_type": "code",
      "execution_count": null,
      "metadata": {
        "id": "OP_xDH_QQieb",
        "scrolled": true
      },
      "outputs": [],
      "source": [
        "A = np.array([\n",
        "    [-1, 2, 3],\n",
        "    [4, 5, 6],\n",
        "    [7, 8, 9]\n",
        "]) # 行列 A の作成\n",
        "\n",
        "for i in range(3): # i は 0, 1, 2 と動く\n",
        "    for j in range(3): # その中で，j は 0, 1, 2 と動く\n",
        "        print((i,j),A[i,j])"
      ]
    },
    {
      "cell_type": "markdown",
      "metadata": {
        "id": "fySjUQDZQieb"
      },
      "source": [
        "### ◯ 条件分岐\n",
        "\n",
        "「もし〔条件〕ならば〔処理〕を行う」という文法を **条件分岐** といいます．\n",
        "\n",
        "次のように `if` を使って記述します．\n",
        "\n",
        "```python\n",
        "if 条件: ←コロンを忘れずに！\n",
        "    インデントブロック（条件を満したときの処理）※複数行に渡ってよい\n",
        "```\n",
        "\n",
        "「もし〔条件〕ならば〔処理1〕を行い，さもなければ〔処理2〕を行う」という書き方もできます．\n",
        "\n",
        "```python\n",
        "if 条件: ←コロンを忘れずに！\n",
        "    インデントブロック（条件を満したときの処理1）\n",
        "else: ←コロンを忘れずに！\n",
        "    インデントブロック（条件を満たさないときの処理2）\n",
        "```\n",
        "\n",
        "条件を増やすこともできます．\n",
        "\n",
        "```python\n",
        "if 条件１: ←コロンを忘れずに！\n",
        "    インデントブロック（条件１を満したときの処理）\n",
        "elif 条件２: ←コロンを忘れずに！\n",
        "    インデントブロック（条件１を満たさず，条件２を満たしたときの処理）\n",
        "else: ←コロンを忘れずに！\n",
        "    インデントブロック（それ以外の処理）\n",
        "```\n",
        "\n",
        "※ `elif` は，いくつあっても（無くても）大丈夫です．"
      ]
    },
    {
      "cell_type": "code",
      "execution_count": null,
      "metadata": {
        "id": "5xzu_NlEQieb"
      },
      "outputs": [],
      "source": [
        "A = np.array([\n",
        "    [-1, 2, 3],\n",
        "    [4, 5, 6],\n",
        "    [7, 8, 9]\n",
        "]) # 行列 A の作成\n",
        "\n",
        "for i in range(3):\n",
        "    for j in range(3):\n",
        "        if i == j:\n",
        "            print( '対角要素', A[i,j] )\n",
        "        elif i<j:\n",
        "            print( '上三角', A[i,j] )\n",
        "        else:\n",
        "            print( 'それ以外（下三角）', A[i,j] )\n"
      ]
    },
    {
      "cell_type": "markdown",
      "metadata": {
        "id": "4G2tj2GtQieb"
      },
      "source": [
        "### ユーザ関数の定義\n",
        "\n",
        "自分で新しい関数を作ることができます．`def` を使って次のように記述します．\n",
        "\n",
        "```python\n",
        "def 関数名(引数1, 引数2, …): ←コロンを忘れずに！\n",
        "    '''\n",
        "    関数の説明文をここに書く（人間用で実行はされない）\n",
        "    '''\n",
        "    インデントブロック　※複数行に渡ってよい\n",
        "    return 戻り値　←必要なければ省略可能\n",
        "```"
      ]
    },
    {
      "cell_type": "markdown",
      "metadata": {
        "id": "eqQAdcL5Qieh"
      },
      "source": [
        "#### 〔１変数関数の例〕"
      ]
    },
    {
      "cell_type": "code",
      "execution_count": null,
      "metadata": {
        "id": "vKwLbMOIQieh"
      },
      "outputs": [],
      "source": [
        "def sanji(x):\n",
        "    '''\n",
        "    先ほどの3次関数\n",
        "    '''\n",
        "    y = x*(x-1)*(x+1)\n",
        "                      # 空行は無視される\n",
        "    return y"
      ]
    },
    {
      "cell_type": "code",
      "execution_count": null,
      "metadata": {
        "id": "MUnCxc4KQiei"
      },
      "outputs": [],
      "source": [
        "sanji(x)"
      ]
    },
    {
      "cell_type": "code",
      "execution_count": null,
      "metadata": {
        "id": "fgbrGeyyQiei"
      },
      "outputs": [],
      "source": [
        "y = x*(x-1)*(x+1)\n",
        "\n",
        "y"
      ]
    },
    {
      "cell_type": "markdown",
      "metadata": {
        "id": "E0IKFDW6Qiei"
      },
      "source": [
        "同じ答えが出せてます．"
      ]
    },
    {
      "cell_type": "markdown",
      "metadata": {
        "id": "FQB0yq-yQiei"
      },
      "source": [
        "#### 〔戻り値を複数返す関数〕"
      ]
    },
    {
      "cell_type": "code",
      "execution_count": null,
      "metadata": {
        "id": "-baCKmuXQiei"
      },
      "outputs": [],
      "source": [
        "def sanji_and_diff(x):\n",
        "    '''\n",
        "    先ほどの3次関数の値と，その導関数を返す\n",
        "    '''\n",
        "    y = sanji(x)\n",
        "    dydx = 3*x**2 - 1\n",
        "\n",
        "    return [y, dydx] #リスト[◯, ◯, …] で返せばよい"
      ]
    },
    {
      "cell_type": "markdown",
      "metadata": {
        "id": "NmE_ZMgmQiei"
      },
      "source": [
        "#### 複数の戻り値は，カンマで並べた変数に一括代入できます．"
      ]
    },
    {
      "cell_type": "code",
      "execution_count": null,
      "metadata": {
        "id": "JG-fzf0lQiei",
        "scrolled": true
      },
      "outputs": [],
      "source": [
        "fx, dfxdx = sanji_and_diff(x)\n",
        "\n",
        "print( fx )\n",
        "print( x*(x-1)*(x+1) )\n",
        "print( '------' )\n",
        "print( dfxdx )\n",
        "print( 3*(x**2) - 1)"
      ]
    },
    {
      "cell_type": "code",
      "execution_count": null,
      "metadata": {
        "id": "Kmqyc8rTQiej"
      },
      "outputs": [],
      "source": []
    }
  ],
  "metadata": {
    "colab": {
      "provenance": []
    },
    "kernelspec": {
      "display_name": "Python 3",
      "language": "python",
      "name": "python3"
    },
    "language_info": {
      "codemirror_mode": {
        "name": "ipython",
        "version": 3
      },
      "file_extension": ".py",
      "mimetype": "text/x-python",
      "name": "python",
      "nbconvert_exporter": "python",
      "pygments_lexer": "ipython3",
      "version": "3.8.10"
    }
  },
  "nbformat": 4,
  "nbformat_minor": 0
}