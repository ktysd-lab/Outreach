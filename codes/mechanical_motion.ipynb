{
  "cells": [
    {
      "cell_type": "markdown",
      "metadata": {
        "id": "pEgU3xAAQDq9"
      },
      "source": [
        "# 物体運動のシミュレーション\n",
        "\n",
        "宇都宮大学　吉田勝俊"
      ]
    },
    {
      "cell_type": "markdown",
      "metadata": {
        "id": "Zo3CTmiHsWFB"
      },
      "source": [
        "**学習内容**\n",
        "\n",
        "1. 運動と運動方程式\n",
        "1. 微分方程式の数値計算\n",
        "1. 数値解のアニメーション\n",
        "1. 大気中の質点の放物運動\n",
        "1. 運動の設計（≒条件の調整）"
      ]
    },
    {
      "cell_type": "markdown",
      "metadata": {
        "id": "pJWb2ZfYRJDl"
      },
      "source": [
        "***\n",
        "※ Python では，必要な機能を「インポート」して使います．"
      ]
    },
    {
      "cell_type": "code",
      "execution_count": null,
      "metadata": {
        "id": "Cx-utNO97f6X"
      },
      "outputs": [],
      "source": [
        "import numpy as np                              #数値計算機能のインポート 別名np\n",
        "import matplotlib.pyplot as plt                 #グラフ描画機能のインポート 別名plt\n",
        "from scipy.integrate import odeint              #常微分方程式の数値解法をインポート\n",
        "from matplotlib.animation import FuncAnimation  #アニメーション機能のインポート\n",
        "from matplotlib import rc                       #各種設定機能のインポート\n",
        "rc('animation', html='jshtml')                  #Colabでアニメーション表示可能にするための設定"
      ]
    },
    {
      "cell_type": "markdown",
      "metadata": {
        "id": "TulelGJEQpHU"
      },
      "source": [
        "***\n",
        "## §１ 運動と運動方程式"
      ]
    },
    {
      "cell_type": "markdown",
      "metadata": {
        "id": "QdAgEDEmSaNO"
      },
      "source": [
        "* 運動　⇔　物体の位置 $x$ の時間変化 $x(t)$ のこと！\n",
        "* 運動方程式　⇔　物体の運動 $x(t)$ を求める方程式のこと！"
      ]
    },
    {
      "cell_type": "markdown",
      "metadata": {
        "id": "gfokbkHJRXa4"
      },
      "source": [
        "### 高校物理の運動方程式\n",
        "\n",
        "$ma(t) = f$　　（質量）×（加速度）＝（力）\n",
        "\n",
        "\n",
        "| 記号 | 名称 | 説明 |\n",
        "|:------|:------|:------|\n",
        "| $m$  | 質量 | 運動（位置の時間変化）ではない |\n",
        "| $f$  | 力 | 同上 |\n",
        "| $a(t)$  | 加速度 | 同上 |\n",
        "\n",
        "**結論**\n",
        "* 高校の運動方程式を解いても，「加速度」しか求まらない．\n",
        "* 運動方程式なのに，「運動」は求まらない！"
      ]
    },
    {
      "cell_type": "markdown",
      "metadata": {
        "id": "PCfMXqX6Vrgq"
      },
      "source": [
        "### 大学物理の運動方程式\n",
        "\n",
        "$m x''(t) = f$　　（質量）×（加速度）＝（力）\n",
        "\n",
        "| 記 号 | 名 称 | 説 明 |\n",
        "| ------ | ------ | ------ |\n",
        "| $m$  | 質量 | 運動（位置の時間変化）ではない |\n",
        "| $f$  | 力 | 同上 |\n",
        "| $x(t)$  | 運動 | 位置の時間変化！ |\n",
        "\n",
        "**微分法**\n",
        "\n",
        "| &emsp;&emsp;&emsp;&emsp;&nbsp;記 号&nbsp;&emsp;&emsp;&emsp;&emsp; | 名 称 | 説 明 | 数学 |\n",
        "| ------ | ------ | ------ | ------ |\n",
        "| $x(t)$  | 運動 | 位置の時間変化 |\n",
        "| $v(t)=x'(t)$  | 速度 | 位置 $x(t)$ の<br>グラフの傾き| 運動の微分 |\n",
        "| $a(t)=v'(t)=x''(t)$  | 加速度 | 速度 $v(t)$ の<br>グラフの傾き | 速度の微分 |\n",
        "\n",
        "* $a(t)=v'(t)=\\fbox{$x'(t)$}'=x''(t)$\n",
        "\n",
        "**結論**\n",
        "* 大学の運動方程式を解くと，「運動」が求まる！"
      ]
    },
    {
      "cell_type": "markdown",
      "metadata": {
        "id": "FAuHdPT1aKIL"
      },
      "source": [
        "### 運動方程式の解き方\n",
        "\n",
        "* 手計算\n",
        "  * 長所・・・運動が数式で求まる　→条件の逆算（設計という）がしやすい\n",
        "  * 短所・・・対象がちょっとでも複雑だと解けない\n",
        "\n",
        "* 数値解法（コンピュータによる近似計算のこと）\n",
        "  * 短所・・・運動は数式ではなく，数列として求まる\n",
        "  * 長所・・・ロボットだろうが，スペースシャトルだろうが解ける"
      ]
    },
    {
      "cell_type": "markdown",
      "metadata": {
        "id": "cGgEsWt7bgOH"
      },
      "source": [
        "> #### ★機械構造としては，超シンプルなのに，手計算では解けない運動方程式の例\n",
        ">\n",
        "> <img src=\"https://github.com/ktysd/outreach/raw/main/docs/invpend.png\" width=\"20%\" valign=\"middle\">\n",
        "> 　図：台車型倒立振子（しんし / ふりこ）\n",
        ">\n",
        "> $\\left\\{\n",
        "\\begin{array}{l}\n",
        "(M+m){x''}\n",
        " + (ml\\cos\\theta){\\theta''  }\n",
        " -ml\\theta'^2\\sin\\theta = f(t)\n",
        " \\\\\n",
        " (ml\\cos\\theta){x''}\n",
        " + (ml^2){\\theta''}\n",
        " - mlg\\sin\\theta = 0\n",
        "\\end{array}\n",
        "\\right.$\n",
        "> * 一次式でない項 $\\sin\\theta$，$\\cos\\theta$，$\\theta'^2$ があるため，この方程式は数学的に解けない（非線形方程式といいます）\n",
        ">\n",
        "> [〔YouTube〕inverted pendulum with mini4WD model car](https://youtu.be/trukC6G44ro)\n",
        "\n"
      ]
    },
    {
      "cell_type": "markdown",
      "metadata": {
        "id": "OFucVOcpofsf"
      },
      "source": [
        "***\n",
        "## §２ 微分方程式の数値計算\n",
        "\n",
        "* 未知数の **微分を含む** 方程式を **微分方程式** といいます．\n",
        "* 運動方程式は，微分方程式の一種です．\n",
        "* 運動方程式をコンピュータで解くことを，**（数値）シミュレーション** といいます．"
      ]
    },
    {
      "cell_type": "markdown",
      "metadata": {
        "id": "AI1bkZxephcQ"
      },
      "source": [
        "### 《例題１》 $v' = -0.5v$　（水の抵抗を受けるボートの運動方程式）\n",
        "\n",
        "* 運動方程式より簡単な方程式で，解き方を説明します．\n",
        "* 未知数が速度 $v(t)$ だけなので，簡単に解けます．"
      ]
    },
    {
      "cell_type": "markdown",
      "metadata": {
        "id": "O2lIYGlpqILr"
      },
      "source": [
        "#### 〔運動方程式のプログラミング〕"
      ]
    },
    {
      "cell_type": "code",
      "execution_count": null,
      "metadata": {
        "id": "H-9ZVufBpgHC"
      },
      "outputs": [],
      "source": [
        "def Boat(v, t):\n",
        "  '''\n",
        "  《例題１》の運動方程式\n",
        "  '''\n",
        "  dvdt = -0.5*v # 運動方程式\n",
        "  return dvdt"
      ]
    },
    {
      "cell_type": "markdown",
      "metadata": {
        "id": "F7oJywJWqI4C"
      },
      "source": [
        "#### 〔時間軸の作成〕"
      ]
    },
    {
      "cell_type": "code",
      "execution_count": null,
      "metadata": {
        "id": "A1luH1-fpbvG"
      },
      "outputs": [],
      "source": [
        "t0 = 0              # 初期時刻\n",
        "dt = 0.05           # 時間ステップ\n",
        "tn = 130            # データ長\n",
        "t1 = t0 + dt*(tn-1) # 終端時刻\n",
        "\n",
        "t = np.linspace(t0, t1, tn) # 時間軸を表す等差数列\n",
        "print(t)"
      ]
    },
    {
      "cell_type": "markdown",
      "metadata": {
        "id": "WheuvpCOrCBC"
      },
      "source": [
        "#### 〔初速度の設定〕"
      ]
    },
    {
      "cell_type": "code",
      "execution_count": null,
      "metadata": {
        "id": "4fe6XaQOrKIn"
      },
      "outputs": [],
      "source": [
        "v0 = 1 # 初速度〔m/s〕"
      ]
    },
    {
      "cell_type": "markdown",
      "metadata": {
        "id": "Sh-TQreMrbMK"
      },
      "source": [
        "#### 〔運動方程式の数値解法〕　速度の時間変化 $v(t)$ を求める"
      ]
    },
    {
      "cell_type": "code",
      "execution_count": null,
      "metadata": {
        "id": "ylyKK-BargrJ"
      },
      "outputs": [],
      "source": [
        "vt = odeint(Boat, v0, t) # これで解ける"
      ]
    },
    {
      "cell_type": "markdown",
      "metadata": {
        "id": "_ImX3Jb3rtqe"
      },
      "source": [
        "解 $v(t)$ は，時間軸 `t` の各時刻における速度の「数列」として得られる．\n",
        "\n",
        "| | | | | | |\n",
        "|:-----|:-----|:-----|:-----|:-----|:-----|\n",
        "| 時刻の数列 `t` | $0.05$ | $0.1$ | $0.15$ | $0.2$ | $\\cdots$ |\n",
        "| 速度の数列 `v` | $v(0.05)$ | $v(0.1)$ | $v(0.15)$ | $v(0.2)$ | $\\cdots$ |\n"
      ]
    },
    {
      "cell_type": "code",
      "execution_count": null,
      "metadata": {
        "id": "X_rhdZUJr3Wd"
      },
      "outputs": [],
      "source": [
        "print(vt)"
      ]
    },
    {
      "cell_type": "markdown",
      "metadata": {
        "id": "FHyAueEvr_oA"
      },
      "source": [
        "#### 〔解のグラフ表示〕　（横軸，縦軸）＝（時刻，速度）のグラフ用紙に解を描く"
      ]
    },
    {
      "cell_type": "code",
      "execution_count": null,
      "metadata": {
        "id": "5_byUu3DsPrM"
      },
      "outputs": [],
      "source": [
        "v = vt[:,0] # 時間軸 t に合せて，解も横ベクトルにしておく\n",
        "\n",
        "plt.plot(t, v)      # グラフの作成\n",
        "plt.xlabel('t')     # 横軸のラベル\n",
        "plt.ylabel('v(t)')  # 縦軸のラベル"
      ]
    },
    {
      "cell_type": "markdown",
      "metadata": {
        "id": "Yka-IJYwHWUU"
      },
      "source": [
        "#### 〔解であることのチェック〕\n",
        "\n",
        "$v'=-0.5v$ $\\iff$ $v' + 0.5v=0$ が 成立するはず！"
      ]
    },
    {
      "cell_type": "code",
      "execution_count": null,
      "metadata": {
        "id": "3vWRWa8KHd44"
      },
      "outputs": [],
      "source": [
        "dvdt = np.gradient(v, t, edge_order=2) # v の時間微分\n",
        "\n",
        "print(dvdt + 0.5*v)"
      ]
    },
    {
      "cell_type": "markdown",
      "metadata": {
        "id": "Od2rBGQdKlH2"
      },
      "source": [
        "* `e-05` は $\\times 10^{-5}$ $(\\times 0.00001)$ のコンピュータ表記．\n",
        "* ゆえに，数値解の誤差は $0.00001$ 程度だったということ．\n",
        "* 無視できない大きさだが，この実習ではこの程度の誤差でよしとする．"
      ]
    },
    {
      "cell_type": "markdown",
      "metadata": {
        "id": "VO41GC7a1WiW"
      },
      "source": [
        "### 《例題１の続き》　位置$x(t)$ も知りたいんですけど！\n",
        "\n",
        "* 元の運動方程式 $v' = -0.5v$ に，\n",
        "* 位置と速度の関係式 $x' = v$ を連立します．\n",
        "\n",
        " $\\left\\{\n",
        "\\begin{array}{l}\n",
        "x'=v\n",
        " \\\\\n",
        "v' = -0.5v\n",
        "\\end{array}\n",
        "\\right.$"
      ]
    },
    {
      "cell_type": "markdown",
      "metadata": {
        "id": "cUuMaOyc24s2"
      },
      "source": [
        "#### 〔運動方程式のプログラミング〕　今度は２連立"
      ]
    },
    {
      "cell_type": "code",
      "execution_count": null,
      "metadata": {
        "id": "yC21rAQ724s5"
      },
      "outputs": [],
      "source": [
        "def Boat2(xv, t):\n",
        "  '''\n",
        "  《例題１の続き》の運動方程式\n",
        "  '''\n",
        "  x, v = xv\n",
        "\n",
        "  dxdt = v      # 追加した方程式\n",
        "  dvdt = -0.5*v #《例題１》の運動方程式\n",
        "\n",
        "  return [dxdt, dvdt] #２式をまとめて返す"
      ]
    },
    {
      "cell_type": "markdown",
      "metadata": {
        "id": "zYf9uEUO24s7"
      },
      "source": [
        "#### 〔時間軸の作成〕"
      ]
    },
    {
      "cell_type": "code",
      "execution_count": null,
      "metadata": {
        "id": "GEZnyaaV24s8"
      },
      "outputs": [],
      "source": [
        "t0 = 0              # 初期時刻\n",
        "dt = 0.05           # 時間ステップ\n",
        "tn = 130            # データ長\n",
        "t1 = t0 + dt*(tn-1) # 終端時刻\n",
        "\n",
        "t = np.linspace(t0, t1, tn) # 時間軸を表す等差数列\n",
        "print(t)"
      ]
    },
    {
      "cell_type": "markdown",
      "metadata": {
        "id": "8dvp__g224s_"
      },
      "source": [
        "#### 〔初期位置と初速度の設定〕"
      ]
    },
    {
      "cell_type": "code",
      "execution_count": null,
      "metadata": {
        "id": "KCj10aO624tA"
      },
      "outputs": [],
      "source": [
        "x0 = 0 #初期位置〔m〕\n",
        "v0 = 1 #初速度〔m/s〕"
      ]
    },
    {
      "cell_type": "markdown",
      "metadata": {
        "id": "LTmNpLST24tA"
      },
      "source": [
        "#### 〔運動方程式の数値解法〕　位置 $x(t)$ と，速度 $v(t)$ を，同時に求める"
      ]
    },
    {
      "cell_type": "code",
      "execution_count": null,
      "metadata": {
        "id": "GKrK-JwG24tB"
      },
      "outputs": [],
      "source": [
        "xvt = odeint(Boat2, [x0, v0], t) # これで解ける"
      ]
    },
    {
      "cell_type": "markdown",
      "metadata": {
        "id": "83B3ee9g24tC"
      },
      "source": [
        "解（**数値解** という）は，時間軸 `t` の各時刻における（位置，速度）の「ベクトル列」として得られる．\n",
        "\n",
        "| | | | | | | |\n",
        "|:-----|:-----|:-----|:-----|:-----|:-----|:----|\n",
        "| 時刻の数列 `t` | $0.05$ | $0.1$ | $0.15$ | $0.2$ | $\\cdots$ | |\n",
        "| 解の数列 `xvt` | $x(0.05)$ | $x(0.1)$ | $x(0.15)$ | $x(0.2)$ | $\\cdots$ | 位置 |\n",
        "|  | $v(0.05)$ | $v(0.1)$ | $v(0.15)$ | $v(0.2)$ | $\\cdots$ | 速度 |\n"
      ]
    },
    {
      "cell_type": "code",
      "execution_count": null,
      "metadata": {
        "id": "McbgNm5h24tC"
      },
      "outputs": [],
      "source": [
        "print(xvt) # [位置，速度] が時刻毎に縦に並んでいる"
      ]
    },
    {
      "cell_type": "markdown",
      "metadata": {
        "id": "8t3efMwD24tE"
      },
      "source": [
        "#### 〔解のグラフ表示〕"
      ]
    },
    {
      "cell_type": "markdown",
      "metadata": {
        "id": "VVO3KidDMHud"
      },
      "source": [
        "（横軸，縦軸）＝（時刻，位置）"
      ]
    },
    {
      "cell_type": "code",
      "execution_count": null,
      "metadata": {
        "id": "c2kw9hnK24tG"
      },
      "outputs": [],
      "source": [
        "xt = xvt[:,0] #最初の列（位置）を取り分ける\n",
        "\n",
        "plt.plot(t, xt) #位置 x(t) グラフのプロット\n",
        "plt.xlabel('t')  #横軸のラベル\n",
        "plt.ylabel('x(t)')  #縦軸のラベル"
      ]
    },
    {
      "cell_type": "markdown",
      "metadata": {
        "id": "OScMpYN4MM90"
      },
      "source": [
        "（横軸，縦軸）＝（時刻，速度）　※先ほどと同じグラフ"
      ]
    },
    {
      "cell_type": "code",
      "execution_count": null,
      "metadata": {
        "id": "LN4xO9lK5bjF"
      },
      "outputs": [],
      "source": [
        "vt = xvt[:,1] #次の列（速度）を取り分ける\n",
        "\n",
        "plt.plot(t, vt) #速度 v(t) グラフのプロット\n",
        "plt.xlabel('t')  #横軸のラベル\n",
        "plt.ylabel('v(t)')  #縦軸のラベル"
      ]
    },
    {
      "cell_type": "markdown",
      "metadata": {
        "id": "BPfxBb3tIZMF"
      },
      "source": [
        "## §３ 数値解のアニメーション\n",
        "\n",
        "パラパラ漫画方式で，解の動きをアニメーション表示する．"
      ]
    },
    {
      "cell_type": "markdown",
      "metadata": {
        "id": "BDcctTsYaLCL"
      },
      "source": [
        "#### 〔アニメーション用のユーザー関数〕"
      ]
    },
    {
      "cell_type": "code",
      "execution_count": null,
      "metadata": {
        "id": "xVlsyeI8gMVR"
      },
      "outputs": [],
      "source": [
        "def animate_Boat(motion):\n",
        "  '''\n",
        "  数値解をアニメーション表示する\n",
        "  '''\n",
        "\n",
        "  # グラフ用紙の設定\n",
        "  # fig グラフ用紙\n",
        "  # ax  座標軸\n",
        "  fig, ax= plt.subplots(1, 1, figsize=(8,2)) #グラフ用紙(ax)を1行,1列(1枚)用意\n",
        "\n",
        "  # アニメーション１コマの描画\n",
        "  def each_frame(i):\n",
        "    ax.cla() #グラフ用紙を白紙にリセット\n",
        "    ax.set_xlim(-1,3) #x軸の範囲\n",
        "    ax.set_ylim(-1,1) #y軸の範囲\n",
        "    ax.grid()\n",
        "\n",
        "    # 質点の描画（y方向は0）\n",
        "    x = motion[i] # x座標\n",
        "    y = 0         # y座標 存在しないので0\n",
        "    ax.plot(x, y, 'o')\n",
        "\n",
        "  # アニメーションデータの作成\n",
        "  n = len(motion) # コマ数\n",
        "  anim = FuncAnimation(\n",
        "      fig,\n",
        "      each_frame,\n",
        "      interval=80,\n",
        "      frames=n\n",
        "  )\n",
        "\n",
        "  plt.close()\n",
        "  return anim"
      ]
    },
    {
      "cell_type": "markdown",
      "metadata": {
        "id": "yCGK3cN0jMXM"
      },
      "source": [
        "#### 〔アニメーション表示〕"
      ]
    },
    {
      "cell_type": "code",
      "execution_count": null,
      "metadata": {
        "id": "NB1rWXdMhODD"
      },
      "outputs": [],
      "source": [
        "animate_Boat(xt)"
      ]
    },
    {
      "cell_type": "markdown",
      "metadata": {
        "id": "16wj2mY5fJe0"
      },
      "source": [
        "## §４ 大気中の質点の放物運動\n",
        "\n",
        " $\\left\\{\n",
        "\\begin{array}{l}\n",
        "m x''= - cv|v|\n",
        " \\\\\n",
        "m y''= - cw|w| - mg\n",
        "\\end{array}\n",
        "\\right.\n",
        "\\quad v = x'\n",
        ",\\quad w = y'\n",
        "$"
      ]
    },
    {
      "cell_type": "markdown",
      "metadata": {
        "id": "bSddN1N3RMEi"
      },
      "source": [
        "####〔空気抵抗のチェック〕\n",
        "\n",
        "\n",
        "* $F = -cv|v|$ は，速度 $v$ の2乗に比例する空気抵抗\n",
        "* 抵抗 … 速度と逆向きの力\n",
        "* 普通の2次関数 $-c v^2$ で与えてしまうと，$v$ の正負によらず，$F$ が同じ向きになり，抵抗にならない．"
      ]
    },
    {
      "cell_type": "code",
      "execution_count": null,
      "metadata": {
        "id": "yLKdzUfDRJye"
      },
      "outputs": [],
      "source": [
        "def plot_teikou():\n",
        "  '''\n",
        "  空気抵抗と2次関数の違い\n",
        "  '''\n",
        "  v = np.linspace(-1,1,50) # 速度軸\n",
        "  c = 0.5 # 仮の抵抗係数\n",
        "\n",
        "  Q = -c*v*v         # 普通の2次関数\n",
        "  F = -c*np.abs(v)*v # 空気抵抗\n",
        "\n",
        "  plt.plot(v, Q, '+', label='$v^2$')\n",
        "  plt.plot(v, F, label='Air')\n",
        "  plt.xlabel('v')\n",
        "  plt.ylabel('F(v)')\n",
        "  plt.grid()\n",
        "  plt.legend()\n",
        "\n",
        "plot_teikou()"
      ]
    },
    {
      "cell_type": "markdown",
      "metadata": {
        "id": "07Cn4h9oUGZh"
      },
      "source": [
        "* 空気抵抗（実線）は，2次関数のカーブでありつつ，速度と逆向きの特性になっています．"
      ]
    },
    {
      "cell_type": "markdown",
      "metadata": {
        "id": "8aG_WDBBUenm"
      },
      "source": [
        "#### 〔運動方程式のプログラミング〕\n",
        "\n"
      ]
    },
    {
      "cell_type": "markdown",
      "metadata": {
        "id": "4i7tLH2IUu3f"
      },
      "source": [
        "運動方程式をボートの例と同じ形式に書き直す．2連立 ×（x,y の2方向）＝ 4連立．\n",
        "\n",
        " $\\left\\{\n",
        "\\begin{array}{l}\n",
        "x' = v\n",
        " \\\\\n",
        "v'= - \\frac{c}{m}v|v|\n",
        " \\\\\n",
        "y' = w\n",
        " \\\\\n",
        "w'= - \\frac{c}{m}w|w| - g\n",
        "\\end{array}\n",
        "\\quad v = x'\n",
        ",\\quad w = y'\n",
        "\\right.$"
      ]
    },
    {
      "cell_type": "code",
      "execution_count": null,
      "metadata": {
        "id": "8L8ojiilSrrt"
      },
      "outputs": [],
      "source": [
        "def Shoot(xvyw, t):\n",
        "  '''\n",
        "  大気中の放物運動の運動方程式\n",
        "  '''\n",
        "  x, v, y, w = xvyw\n",
        "  m = 1\n",
        "  c = 0.01 #野球ボールよりだいぶ大きいかも？\n",
        "  g = 9.8\n",
        "\n",
        "  # x 方向\n",
        "  dxdt = v\n",
        "  dvdt = -(c/m)* v*np.abs(v)\n",
        "\n",
        "  # y 方向\n",
        "  dydt = w\n",
        "  dwdt = -(c/m)* w*np.abs(w) -g\n",
        "\n",
        "  return [dxdt, dvdt, dydt, dwdt] #４式をまとめて返す"
      ]
    },
    {
      "cell_type": "markdown",
      "metadata": {
        "id": "v94Sv-_VY3G9"
      },
      "source": [
        "#### 〔運動方程式の数値解法〕"
      ]
    },
    {
      "cell_type": "code",
      "execution_count": null,
      "metadata": {
        "id": "IJ-ju3a6Y3G4"
      },
      "outputs": [],
      "source": [
        "t = np.linspace(0, 6, 120)\n",
        "\n",
        "kmph  = 132               # km/h\n",
        "mps   = kmph*1000 / 60**2 # m/s\n",
        "angle = np.pi/4           # π/4 = 45度\n",
        "x0 = 0                    # x方向の初期位置〔m〕\n",
        "v0 = mps * np.cos(angle)  # x方向の初速度〔m/s〕\n",
        "y0 = 2                    # y方向の初期位置〔m〕\n",
        "w0 = mps * np.sin(angle)  # y方向の初速度〔m/s〕\n",
        "\n",
        "xvywt = odeint(Shoot, [x0, v0, y0, w0], t) # 運動方程式を解く\n",
        "\n",
        "xt = xvywt[:,0] # x 方向の位置〔m〕\n",
        "vt = xvywt[:,1] # x 方向の速度〔m/s〕\n",
        "yt = xvywt[:,2] # y 方向の位置〔m〕\n",
        "wt = xvywt[:,3] # y 方向の速度〔m/s〕"
      ]
    },
    {
      "cell_type": "markdown",
      "metadata": {
        "id": "gBO1AU8gZVAr"
      },
      "source": [
        "#### 〔放物運動のアニメーション表示〕"
      ]
    },
    {
      "cell_type": "code",
      "execution_count": null,
      "metadata": {
        "id": "617l7YdvY3G-"
      },
      "outputs": [],
      "source": [
        "def animate_Shoot(xt, yt):\n",
        "  '''\n",
        "  数値解をアニメーション表示する\n",
        "  '''\n",
        "  # グラフ用紙の設定\n",
        "  # fig グラフ用紙\n",
        "  # ax  座標軸\n",
        "  fig, ax= plt.subplots(1, 1, figsize=(5,2)) #グラフ用紙(ax)を1行,1列(1枚)用意\n",
        "\n",
        "  # アニメーション１コマの描画\n",
        "  def each_frame(i):\n",
        "    ax.cla() #グラフ用紙を白紙にリセット\n",
        "    ax.set_xlim(-1,100) #x軸の範囲\n",
        "    ax.set_ylim(-1,40) #y軸の範囲\n",
        "    ax.grid()\n",
        "\n",
        "    # 運動の描画\n",
        "    x = xt[i] # x座標\n",
        "    y = yt[i] # y座標\n",
        "    ax.plot(x, y, '.r') # 質点\n",
        "    ax.plot(xt[:i], yt[:i], '-r', lw=0.5) #軌跡\n",
        "\n",
        "  # アニメーションデータの作成\n",
        "  n = len(xt) # コマ数\n",
        "  anim = FuncAnimation(\n",
        "      fig,\n",
        "      each_frame,\n",
        "      interval=80,\n",
        "      frames=n\n",
        "  )\n",
        "\n",
        "  plt.close()\n",
        "  return anim"
      ]
    },
    {
      "cell_type": "code",
      "execution_count": null,
      "metadata": {
        "id": "VZBhgC3FaraI"
      },
      "outputs": [],
      "source": [
        "animate_Shoot(xt, yt)"
      ]
    },
    {
      "cell_type": "markdown",
      "metadata": {
        "id": "H6bZERQYdcJy"
      },
      "source": [
        "## §５ 運動の設計（≒条件の調整）\n",
        "\n",
        "* 原因から結果を予測する問題を，**順問題** といいます．\n",
        "* 逆に，結果を先に決めて，そうなる原因を逆算する問題を，**逆問題** といいます．\n",
        "* 逆問題を解くことを **設計** といいます．（工学分野の中心的課題）"
      ]
    },
    {
      "cell_type": "markdown",
      "metadata": {
        "id": "uiXIyPAmrzY3"
      },
      "source": [
        "#### 〔調整作業用のユーザ関数〕\n",
        "\n",
        "大気中の放物運動を，例に取り上げます．"
      ]
    },
    {
      "cell_type": "code",
      "execution_count": null,
      "metadata": {
        "id": "oXgEjw1WawGl"
      },
      "outputs": [],
      "source": [
        "def design_Shoot(angle_deg):\n",
        "  '''\n",
        "  与えられた角度で，アニメーションまで一括処理する\n",
        "  '''\n",
        "  t = np.linspace(0, 7, 140)\n",
        "\n",
        "  def shoot(deg):\n",
        "\n",
        "    angle = deg/180 * np.pi # 度→ラジアン\n",
        "\n",
        "    kmph  = 132               # km/h\n",
        "    mps   = kmph*1000 / 60**2 # m/s\n",
        "    x0 = 0                    # x方向の初期位置〔m〕\n",
        "    v0 = mps * np.cos(angle)  # x方向の初速度〔m/s〕\n",
        "    y0 = 2                    # y方向の初期位置〔m〕\n",
        "    w0 = mps * np.sin(angle)  # y方向の初速度〔m/s〕\n",
        "\n",
        "    xvywt = odeint(Shoot, [x0, v0, y0, w0], t) # 運動方程式を解く\n",
        "\n",
        "    xt = xvywt[:,0] # x 方向の位置〔m〕\n",
        "    yt = xvywt[:,2] # y 方向の位置〔m〕\n",
        "\n",
        "    return [xt, yt]\n",
        "\n",
        "  xt, yt = shoot( angle_deg )\n",
        "  xt45, yt45 = shoot( 45 )    # 比較用\n",
        "\n",
        "  # アニメーション\n",
        "  fig, ax= plt.subplots(1, 1, figsize=(5,2)) #グラフ用紙(ax)を1行,1列(1枚)用意\n",
        "\n",
        "  def each_frame(i):\n",
        "    ax.cla() #グラフ用紙を白紙にリセット\n",
        "    ax.set_xlim(-1,100) #x軸の範囲\n",
        "    ax.set_ylim(-1,40) #y軸の範囲\n",
        "\n",
        "    # 質点の描画\n",
        "    ax.plot(xt[i], yt[i], '.r', label='new') #質点\n",
        "    ax.plot(xt[:i], yt[:i], '-r', lw=0.5)    #軌跡\n",
        "\n",
        "    # 45度の場合\n",
        "    ax.plot(xt45[i], yt45[i], '.k', label='45') #質点\n",
        "    ax.plot(xt45[:i], yt45[:i], ':k', lw=0.5)   #軌跡\n",
        "\n",
        "    ax.grid()\n",
        "    ax.legend()\n",
        "\n",
        "  # アニメーションデータの作成\n",
        "  n = len(xt) # コマ数\n",
        "  anim = FuncAnimation(\n",
        "      fig,\n",
        "      each_frame,\n",
        "      interval=80,\n",
        "      frames=n\n",
        "  )\n",
        "\n",
        "  plt.close()\n",
        "  return anim"
      ]
    },
    {
      "cell_type": "markdown",
      "metadata": {
        "id": "BwkljZPNsIwe"
      },
      "source": [
        "#### 〔運動の設計〕"
      ]
    },
    {
      "cell_type": "markdown",
      "metadata": {
        "id": "6LxdrxQyqJKz"
      },
      "source": [
        "**実習**　45度と同等の飛距離で，到達時間の短い射出角度 `angle_deg` を探せ．"
      ]
    },
    {
      "cell_type": "code",
      "execution_count": null,
      "metadata": {
        "id": "02QUP8n7fyb-"
      },
      "outputs": [],
      "source": [
        "design_Shoot(angle_deg=60) # 45 にすると2つの軌跡が重なります"
      ]
    },
    {
      "cell_type": "code",
      "execution_count": null,
      "metadata": {
        "id": "MjEkQGH9g4pE"
      },
      "outputs": [],
      "source": []
    }
  ],
  "metadata": {
    "colab": {
      "name": "mechanical_motion.ipynb",
      "provenance": []
    },
    "kernelspec": {
      "display_name": "Python 3",
      "name": "python3"
    }
  },
  "nbformat": 4,
  "nbformat_minor": 0
}
